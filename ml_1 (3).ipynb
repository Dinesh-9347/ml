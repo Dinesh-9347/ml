{
 "cells": [
  {
   "cell_type": "code",
   "execution_count": 3,
   "id": "699eb861",
   "metadata": {},
   "outputs": [
    {
     "name": "stdout",
     "output_type": "stream",
     "text": [
      "Number of pairs with sum 10: 2\n"
     ]
    }
   ],
   "source": [
    "\n",
    "def count_pairs_with_sum(numbers, target_sum):\n",
    "    count = 0\n",
    "    n = len(numbers)\n",
    "   \n",
    "   \n",
    "    for i in range(n):\n",
    "        for j in range(i + 1, n):\n",
    "            if numbers[i] + numbers[j] == target_sum:\n",
    "                count += 1\n",
    "               \n",
    "    return count\n",
    "\n",
    "\n",
    "numbers = [2, 7, 4, 1, 3, 6]\n",
    "target_sum = 10\n",
    "\n",
    "\n",
    "result = count_pairs_with_sum(numbers, target_sum)\n",
    "print(f\"Number of pairs with sum {target_sum}: {result}\")"
   ]
  },
  {
   "cell_type": "code",
   "execution_count": 5,
   "id": "b42be0d5",
   "metadata": {},
   "outputs": [
    {
     "name": "stdout",
     "output_type": "stream",
     "text": [
      "A^m:\n",
      " [[ 37  54]\n",
      " [ 81 118]]\n"
     ]
    }
   ],
   "source": [
    "import numpy as np\n",
    "\n",
    "def matrix_power(A, m):\n",
    "   \n",
    "    A = np.array(A)\n",
    "    \n",
    "   \n",
    "    rows, cols = A.shape\n",
    "    if rows != cols:\n",
    "        raise ValueError(\"Matrix must be square\")\n",
    "    \n",
    "   \n",
    "    if m <= 0 or not isinstance(m, int):\n",
    "        raise ValueError(\"m must be a positive integer\")\n",
    "    \n",
    "   \n",
    "    result = np.linalg.matrix_power(A, m)\n",
    "    \n",
    "    return result\n",
    "\n",
    "\n",
    "A = [[1, 2], [3, 4]] \n",
    "m = 3  \n",
    "\n",
    "\n",
    "result = matrix_power(A, m)\n",
    "print(\"A^m:\\n\", result)\n"
   ]
  },
  {
   "cell_type": "code",
   "execution_count": 6,
   "id": "124630a8",
   "metadata": {},
   "outputs": [
    {
     "name": "stdout",
     "output_type": "stream",
     "text": [
      "The range of the list [5, 3, 8, 1, 0, 4] is: 8\n"
     ]
    }
   ],
   "source": [
    "\n",
    "def calculate_range(numbers):\n",
    "   \n",
    "    if len(numbers) < 3:\n",
    "        return \"Range determination not possible\"\n",
    "   \n",
    " \n",
    "    max_value = max(numbers)\n",
    "    min_value = min(numbers)\n",
    "   \n",
    " \n",
    "    range_value = max_value - min_value\n",
    "    return range_value\n",
    "\n",
    "input_list = [5, 3, 8, 1, 0, 4]\n",
    "result = calculate_range(input_list)\n",
    "print(f\"The range of the list {input_list} is: {result}\")"
   ]
  },
  {
   "cell_type": "code",
   "execution_count": 8,
   "id": "3fbf0d80",
   "metadata": {},
   "outputs": [
    {
     "name": "stdout",
     "output_type": "stream",
     "text": [
      "Input string: hippopotamus\n",
      "Highest occurring character: p\n",
      "Occurrence count: 3\n"
     ]
    }
   ],
   "source": [
    "def count_highest_char(input_string):\n",
    "    \"\"\"\n",
    "    Counts the highest occurring character and its occurrence count in an input string.\n",
    "    \n",
    "    Args:\n",
    "        input_string (str): The input string.\n",
    "        \n",
    "    Returns:\n",
    "        tuple: A tuple containing the highest occurring character and its occurrence count.\n",
    "    \"\"\"\n",
    "  \n",
    "    input_string = ''.join(char.lower() for char in input_string if char.isalpha())\n",
    "    \n",
    "   \n",
    "    char_count = {}\n",
    "    for char in input_string:\n",
    "        if char in char_count:\n",
    "            char_count[char] += 1\n",
    "        else:\n",
    "            char_count[char] = 1\n",
    "    \n",
    "    \n",
    "    max_count = 0\n",
    "    max_char = None\n",
    "    for char, count in char_count.items():\n",
    "        if count > max_count:\n",
    "            max_count = count\n",
    "            max_char = char\n",
    "    \n",
    "    return max_char, max_count\n",
    "\n",
    "\n",
    "input_string = \"hippopotamus\"\n",
    "result = count_highest_char(input_string)\n",
    "\n",
    "print(f\"Input string: {input_string}\")\n",
    "print(f\"Highest occurring character: {result[0]}\")\n",
    "print(f\"Occurrence count: {result[1]}\")"
   ]
  },
  {
   "cell_type": "code",
   "execution_count": null,
   "id": "d2177447",
   "metadata": {},
   "outputs": [],
   "source": []
  },
  {
   "cell_type": "code",
   "execution_count": null,
   "id": "1eb5be6f",
   "metadata": {},
   "outputs": [],
   "source": []
  }
 ],
 "metadata": {
  "kernelspec": {
   "display_name": "Python 3 (ipykernel)",
   "language": "python",
   "name": "python3"
  },
  "language_info": {
   "codemirror_mode": {
    "name": "ipython",
    "version": 3
   },
   "file_extension": ".py",
   "mimetype": "text/x-python",
   "name": "python",
   "nbconvert_exporter": "python",
   "pygments_lexer": "ipython3",
   "version": "3.11.4"
  }
 },
 "nbformat": 4,
 "nbformat_minor": 5
}
